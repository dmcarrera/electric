{
 "cells": [
  {
   "cell_type": "markdown",
   "metadata": {},
   "source": [
    "The US Government's Alternative Fuels Data Center collects records of electric vehicle (EV) charging infrastructure, including charging ports and station locations, as well as sales of electric vehicles. With the EV market rapidly evolving, it's essential to understand the growth trends in charging facilities and sales to inform strategic planning. As a data scientist working for a leading EV charging network operator, you recognize the potential in this data and start wrangling and visualizing the aggregated yearly data. \n",
    "\n",
    "This yearly data captured in December of each year encompasses a record of EV charging port installations and station localities spanning roughly ten years, capturing both public and private charging environments. The data is stored in two CSV files:\n",
    "___\n",
    "\n",
    "`private_ev_charging.csv`\n",
    "\n",
    "| Variable   | Description                                          |\n",
    "|------------|------------------------------------------------------|\n",
    "| `year` |  Year of data collection |\n",
    "| `private_ports`| The number of available charging ports owned by private companies in a given year  |\n",
    "| `private_station_locations`   | The number of privately owned station locations for EV charging\n",
    "\n",
    "___\n",
    "\n",
    "`public_ev_charging.csv`\n",
    " \n",
    "| Variable   | Description                                          |\n",
    "|------------|------------------------------------------------------|\n",
    "| `year` |  Year of data collection  |\n",
    "| `public_ports`| The number of available charging ports under public ownership in a given year  |\n",
    "| `public_station_locations`   | The number of publicly owned station locations for EV charging\n",
    "\n",
    "___\n",
    "\n",
    "The sales information is available for each model and year in the `ev_sales.csv` file:\n",
    "\n",
    "| Variable   | Description                                          |\n",
    "|------------|------------------------------------------------------|\n",
    "| `Vehicle` |  Electric vehicle model |\n",
    "| `year`| Year of data collection |\n",
    "| `sales`   | The number of vehicles sold in the US\n",
    "\n"
   ]
  },
  {
   "cell_type": "markdown",
   "metadata": {},
   "source": [
    "\n",
    "El Centro de Datos de Combustibles Alternativos del Gobierno de EE. UU. recopila registros de la infraestructura de carga de vehículos eléctricos (VE), incluyendo puertos de carga y ubicaciones de estaciones, así como ventas de vehículos eléctricos. Con el mercado de VE evolucionando rápidamente, es esencial entender las tendencias de crecimiento en instalaciones de carga y ventas para informar la planificación estratégica. Como científico de datos que trabaja para un operador líder de redes de carga de VE, reconoces el potencial de estos datos y comienzas a manipular y visualizar los datos agregados anuales.\n",
    "\n",
    "Estos datos anuales capturados en diciembre de cada año abarcan un registro de instalaciones de puertos de carga de VE y ubicaciones de estaciones durante aproximadamente diez años, capturando tanto entornos de carga públicos como privados. Los datos se almacenan en dos archivos CSV:"
   ]
  },
  {
   "cell_type": "code",
   "execution_count": 8,
   "metadata": {},
   "outputs": [],
   "source": [
    "import pandas as pd\n",
    "import matplotlib.pyplot as plt\n",
    "import seaborn as sns\n",
    "\n",
    "\n",
    "file_1 = 'ev_sales.csv'\n",
    "file_2 ='private_ev_charging.csv'\n",
    "file_3 = 'public_ev_charging.csv'\n",
    "\n",
    "\n",
    "df_sales = pd.read_csv(file_1)\n",
    "df_private = pd.read_csv(file_2)\n",
    "\n",
    "df_public = pd.read_csv(file_3)\n",
    "\n"
   ]
  },
  {
   "cell_type": "code",
   "execution_count": 9,
   "metadata": {},
   "outputs": [
    {
     "name": "stdout",
     "output_type": "stream",
     "text": [
      "<class 'pandas.core.frame.DataFrame'>\n",
      "RangeIndex: 9 entries, 0 to 8\n",
      "Data columns (total 3 columns):\n",
      " #   Column                     Non-Null Count  Dtype\n",
      "---  ------                     --------------  -----\n",
      " 0   year                       9 non-null      int64\n",
      " 1   private_ports              9 non-null      int64\n",
      " 2   private_station_locations  9 non-null      int64\n",
      "dtypes: int64(3)\n",
      "memory usage: 348.0 bytes\n",
      "None\n",
      "<class 'pandas.core.frame.DataFrame'>\n",
      "RangeIndex: 10 entries, 0 to 9\n",
      "Data columns (total 3 columns):\n",
      " #   Column                    Non-Null Count  Dtype\n",
      "---  ------                    --------------  -----\n",
      " 0   year                      10 non-null     int64\n",
      " 1   public_ports              10 non-null     int64\n",
      " 2   public_station_locations  10 non-null     int64\n",
      "dtypes: int64(3)\n",
      "memory usage: 372.0 bytes\n",
      "None\n",
      "<bound method DataFrame.sum of     year  private_ports  private_station_locations\n",
      "0  False          False                      False\n",
      "1  False          False                      False\n",
      "2  False          False                      False\n",
      "3  False          False                      False\n",
      "4  False          False                      False\n",
      "5  False          False                      False\n",
      "6  False          False                      False\n",
      "7  False          False                      False\n",
      "8  False          False                      False>\n"
     ]
    }
   ],
   "source": [
    "print(df_private.info())\n",
    "print(df_public.info())\n",
    "\n",
    "# valores nulos\n",
    "\n",
    "print(df_private.isna().sum)"
   ]
  },
  {
   "cell_type": "code",
   "execution_count": 10,
   "metadata": {},
   "outputs": [],
   "source": [
    "\n",
    "#def_temp = df_private.merge(df_public, on ='year') -Este es el algoritmo que escribi\n",
    "#esta es la solucion\n",
    "\n",
    "\"\"\"\n",
    "on='year': Este argumento especifica que la unión se realizará en la columna 'year'. Esto implica que ambas DataFrames deben tener una columna llamada 'year' que sirva como clave para la unión.\n",
    "\n",
    "how='outer': Indica que se realizará una unión externa, lo que significa que se conservarán todas las filas de ambas DataFrames, y se llenarán con valores nulos aquellas filas para las cuales no haya coincidencias en la columna 'year'.\n",
    "\n",
    "indicator=True: Agrega una columna llamada '_merge' al resultado, que indica de qué DataFrame provienen los datos ('left_only', 'right_only', o 'both')\n",
    "'left_only': Indica que la fila proviene solo del DataFrame izquierdo (df_private en este caso), lo que significa que no hay coincidencia en la columna 'year' en el DataFrame derecho (df_public).\n",
    "\n",
    "'right_only': Indica que la fila proviene solo del DataFrame derecho (df_public en este caso), lo que significa que no hay coincidencia en la columna 'year' en el DataFrame izquierdo (df_private).\n",
    "\n",
    "'both': Indica que la fila proviene de ambos DataFrames, lo que significa que hay una coincidencia en la columna 'year' en ambos DataFrames.\n",
    "\"\"\"\n",
    "\n",
    "def_combined = df_private.merge(df_public, on ='year', how='outer',indicator=True)\n",
    "\n",
    "def_temp = def_combined[def_combined['_merge']=='both']\n",
    "\n",
    "def_temp = def_temp.drop(columns=['_merge'])\n",
    "\n"
   ]
  },
  {
   "cell_type": "code",
   "execution_count": 11,
   "metadata": {},
   "outputs": [
    {
     "name": "stdout",
     "output_type": "stream",
     "text": [
      "   year     sales\n",
      "0  2011   17763.0\n",
      "1  2012   53171.0\n",
      "2  2013   97102.0\n",
      "3  2014  118882.0\n",
      "4  2015  114023.0\n",
      "5  2016  159616.0\n",
      "6  2017  195581.0\n",
      "7  2018  361315.0\n",
      "8  2019  326644.0\n"
     ]
    }
   ],
   "source": [
    "#\n",
    "ev_total_sales = df_sales.groupby('year')['sales'].sum().reset_index()\n",
    "# Inspect the data and save the variable\n",
    "print(ev_total_sales)\n",
    "ev_sales_2018 = 361315"
   ]
  },
  {
   "cell_type": "code",
   "execution_count": 12,
   "metadata": {},
   "outputs": [],
   "source": [
    "df_complete = def_temp.merge(ev_total_sales, how='left', on='year')\n",
    "\n",
    "df_complete = df_complete.dropna(subset='sales')\n"
   ]
  },
  {
   "cell_type": "code",
   "execution_count": 13,
   "metadata": {},
   "outputs": [
    {
     "data": {
      "image/png": "[encoded data removed]",
      "text/plain": [
       "<Figure size 640x480 with 1 Axes>"
      ]
     },
     "metadata": {},
     "output_type": "display_data"
    }
   ],
   "source": [
    "fix, ax = plt.subplots()\n",
    "\n",
    "sns.lineplot(data=df_complete,\n",
    "             x='year',\n",
    "             y='private_ports', \n",
    "             label = 'Private Ports')\n",
    "sns.lineplot(data=df_complete,\n",
    "             x='year',\n",
    "             y='public_ports', \n",
    "             label = 'Public Ports')\n",
    "sns.lineplot(data=df_complete,\n",
    "             x='year',\n",
    "             y='sales', \n",
    "             label = 'Total Sales',\n",
    "             linestyle= ':')\n",
    "\n",
    "ax.set_title = ('EV Ports and Sales Overt Time')\n",
    "ax.set(xlabel='Year', ylabel='Count')\n",
    "ax.legend(loc='upper left')\n",
    "plt.show()\n",
    "trend = \"same\""
   ]
  }
 ],
 "metadata": {
  "kernelspec": {
   "display_name": "base",
   "language": "python",
   "name": "python3"
  },
  "language_info": {
   "codemirror_mode": {
    "name": "ipython",
    "version": 3
   },
   "file_extension": ".py",
   "mimetype": "text/x-python",
   "name": "python",
   "nbconvert_exporter": "python",
   "pygments_lexer": "ipython3",
   "version": "3.11.5"
  }
 },
 "nbformat": 4,
 "nbformat_minor": 2
}
